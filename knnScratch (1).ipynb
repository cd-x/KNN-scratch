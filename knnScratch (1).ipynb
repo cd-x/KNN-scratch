{
  "nbformat": 4,
  "nbformat_minor": 0,
  "metadata": {
    "colab": {
      "name": "knnScratch.ipynb",
      "provenance": [],
      "collapsed_sections": []
    },
    "kernelspec": {
      "name": "python3",
      "display_name": "Python 3"
    },
    "accelerator": "GPU"
  },
  "cells": [
    {
      "cell_type": "code",
      "metadata": {
        "id": "SsNxoVwdsUkm",
        "colab_type": "code",
        "colab": {
          "base_uri": "https://localhost:8080/",
          "height": 139
        },
        "outputId": "60dd5710-5bce-4202-b97e-4d12ab487ae6"
      },
      "source": [
        "from google.colab import drive\n",
        "drive.mount('/gdrive')\n",
        "%cd /gdrive"
      ],
      "execution_count": 2,
      "outputs": [
        {
          "output_type": "stream",
          "text": [
            "Go to this URL in a browser: https://accounts.google.com/o/oauth2/auth?client_id=947318989803-6bn6qk8qdgf4n4g3pfee6491hc0brc4i.apps.googleusercontent.com&redirect_uri=urn%3aietf%3awg%3aoauth%3a2.0%3aoob&response_type=code&scope=email%20https%3a%2f%2fwww.googleapis.com%2fauth%2fdocs.test%20https%3a%2f%2fwww.googleapis.com%2fauth%2fdrive%20https%3a%2f%2fwww.googleapis.com%2fauth%2fdrive.photos.readonly%20https%3a%2f%2fwww.googleapis.com%2fauth%2fpeopleapi.readonly\n",
            "\n",
            "Enter your authorization code:\n",
            "··········\n",
            "Mounted at /gdrive\n",
            "/gdrive\n"
          ],
          "name": "stdout"
        }
      ]
    },
    {
      "cell_type": "code",
      "metadata": {
        "id": "Nd1aZUuMsxIO",
        "colab_type": "code",
        "colab": {}
      },
      "source": [
        "import pandas as pd\n",
        "df= pd.read_csv('/gdrive/My Drive/Colab Notebooks/breast-cancer-wisconsin.data.txt')"
      ],
      "execution_count": 0,
      "outputs": []
    },
    {
      "cell_type": "code",
      "metadata": {
        "id": "HDX-kksjxQmj",
        "colab_type": "code",
        "colab": {}
      },
      "source": [
        "import numpy as np\n",
        "from collections import Counter\n",
        "import random"
      ],
      "execution_count": 0,
      "outputs": []
    },
    {
      "cell_type": "code",
      "metadata": {
        "id": "XcE9ntjvs6IS",
        "colab_type": "code",
        "colab": {}
      },
      "source": [
        "def k_nearest_neighbours(data, predict,k=3):\n",
        "  distances = []\n",
        "  for group in data:\n",
        "    for feature in data[group]:\n",
        "      euclidean_distance = np.linalg.norm(np.array(feature)-np.array(predict))\n",
        "      distances.append([euclidean_distance,group])\n",
        "  \n",
        "  votes = [i[1] for i in sorted(distances)[:k]]\n",
        "  vote_result = Counter(votes).most_common(1)[0][0]\n",
        "  return vote_result\n"
      ],
      "execution_count": 0,
      "outputs": []
    },
    {
      "cell_type": "code",
      "metadata": {
        "id": "YCKQcJ541uX9",
        "colab_type": "code",
        "colab": {}
      },
      "source": [
        "df.replace('?',-99999,inplace=True)\n",
        "df.drop(['id'],1,inplace=True)\n",
        "float_data = df.astype(float).values.tolist()"
      ],
      "execution_count": 0,
      "outputs": []
    },
    {
      "cell_type": "code",
      "metadata": {
        "id": "vKTFa_dT2JXC",
        "colab_type": "code",
        "colab": {}
      },
      "source": [
        "# x = np.array(float_data.drop(['class'],1))\n",
        "# y = np.array(float_data['class'])\n",
        "random.shuffle(float_data)\n",
        "test_size =0.2\n",
        "train_data = float_data[:-int(len(float_data)*test_size)]\n",
        "test_data = float_data[-int(len(float_data)*test_size):]"
      ],
      "execution_count": 0,
      "outputs": []
    },
    {
      "cell_type": "code",
      "metadata": {
        "id": "0Xg6T3832uRK",
        "colab_type": "code",
        "colab": {}
      },
      "source": [
        "#test_size = 0.2\n",
        "train_set ={2:[],4:[]}\n",
        "test_set = {2:[],4:[]}\n",
        "for i in train_data:\n",
        "  train_set[i[-1]].append(i[:-1])\n",
        "for i in test_data:\n",
        "  test_set[i[-1]].append(i[:-1])"
      ],
      "execution_count": 0,
      "outputs": []
    },
    {
      "cell_type": "code",
      "metadata": {
        "id": "1i9o8H9C7KQU",
        "colab_type": "code",
        "colab": {}
      },
      "source": [
        "correct =0\n",
        "total = 0\n",
        "for group in test_set:\n",
        "  for data in test_set[group]:\n",
        "    vote =k_nearest_neighbours(train_set,data,k=5)\n",
        "    if vote==group:\n",
        "      correct+=1\n",
        "    total+=1"
      ],
      "execution_count": 0,
      "outputs": []
    },
    {
      "cell_type": "code",
      "metadata": {
        "id": "tnZe3p968dRM",
        "colab_type": "code",
        "colab": {
          "base_uri": "https://localhost:8080/",
          "height": 34
        },
        "outputId": "77e888e8-73ff-4dc6-83fc-9ba07c57c705"
      },
      "source": [
        "print('accuracy  :',correct/total)"
      ],
      "execution_count": 26,
      "outputs": [
        {
          "output_type": "stream",
          "text": [
            "accuracy  : 0.9856115107913669\n"
          ],
          "name": "stdout"
        }
      ]
    }
  ]
}